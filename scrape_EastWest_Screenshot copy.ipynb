{
 "cells": [
  {
   "cell_type": "code",
   "execution_count": 17,
   "metadata": {},
   "outputs": [],
   "source": [
    "import re\n",
    "from PIL import Image\n",
    "import pytesseract\n",
    "\n",
    "clubs_west = []\n",
    "\n",
    "def parse_text_to_dict(text):\n",
    "\n",
    "    \n",
    "    # Teile den Text in Zeilen\n",
    "    lines = text.split('\\n')\n",
    "    \n",
    "    # Initialisiere Variablen für den aktuellen Clubnamen und die Jahre\n",
    "    current_name = None\n",
    "    current_years = None\n",
    "    \n",
    "    # Regex-Muster für Jahre\n",
    "    year_pattern = re.compile(r'\\d{4} - \\d{4}')\n",
    "    \n",
    "    for line in lines:\n",
    "        # Entferne führende und nachfolgende Leerzeichen\n",
    "        line = line.strip()\n",
    "        \n",
    "        # Suche nach dem Jahrmuster in der Zeile\n",
    "        year_match = year_pattern.search(line)\n",
    "        \n",
    "        if year_match:\n",
    "            # Wenn ein Jahrmuster gefunden wird, speichere es\n",
    "            current_years = year_match.group(0)\n",
    "        elif 'Musikrichtungen & Subkulturen' in line:\n",
    "            # Wenn die Zeile 'Musikrichtungen & Subkulturen' enthält, ignoriere sie\n",
    "            continue\n",
    "        elif line:\n",
    "            # Wenn die Zeile weder Jahre noch 'Musikrichtungen & Subkulturen' enthält, speichere den Namen\n",
    "            if current_name and current_years:\n",
    "                # Wenn wir bereits einen Namen und Jahre haben, speichern wir das Dictionary\n",
    "                clubs_west.append({'name': current_name, 'jahre': current_years})\n",
    "                current_name = None\n",
    "                current_years = None\n",
    "            current_name = line\n",
    "            \n",
    "    # Füge das letzte Club-Dictionary hinzu, falls noch vorhanden\n",
    "    if current_name and current_years:\n",
    "        clubs_west.append({'name': current_name, 'jahre': current_years})\n",
    "    \n",
    "    return clubs\n",
    "\n"
   ]
  },
  {
   "cell_type": "code",
   "execution_count": 18,
   "metadata": {},
   "outputs": [
    {
     "name": "stdout",
     "output_type": "stream",
     "text": [
      "[2, 3]\n"
     ]
    }
   ],
   "source": [
    "numbers = [i for i in range(2, 4)]\n",
    "print(numbers)\n"
   ]
  },
  {
   "cell_type": "code",
   "execution_count": 20,
   "metadata": {},
   "outputs": [
    {
     "name": "stdout",
     "output_type": "stream",
     "text": [
      "[]\n"
     ]
    }
   ],
   "source": [
    "\n",
    "clubs = []\n",
    "\n",
    "# OCR durchführen\n",
    "for number in numbers:\n",
    "    image = Image.open(f'screenshot{number}.png')\n",
    "    text = pytesseract.image_to_string(image)\n",
    "\n",
    "    clubs = parse_text_to_dict(text)\n",
    "\n",
    "print(clubs)\n"
   ]
  },
  {
   "cell_type": "code",
   "execution_count": 21,
   "metadata": {},
   "outputs": [
    {
     "data": {
      "text/plain": [
       "[{'name': 'Abraxas', 'jahre': '1984 - 2009'},\n",
       " {'name': '4 Café Swing', 'jahre': '1982 - 2002'},\n",
       " {'name': 'Cheetah', 'jahre': '1968 - 1983'},\n",
       " {'name': 'Chez Romy Haag', 'jahre': '1974 - 1983'},\n",
       " {'name': 'Dschungel', 'jahre': '1978 - 1993'},\n",
       " {'name': 'Krik', 'jahre': '1982 - 2006'},\n",
       " {'name': 'Linientreu', 'jahre': '1982 - 2008'},\n",
       " {'name': 'Loft', 'jahre': '1981 - 1998'},\n",
       " {'name': 'Punkhouse', 'jahre': '1977 - 1978'},\n",
       " {'name': 'Quarter Latin', 'jahre': '1972 - 1989'},\n",
       " {'name': 'Risiko', 'jahre': '1981 - 1986'},\n",
       " {'name': 'Trash', 'jahre': '1982 - 2001'},\n",
       " {'name': 'UFO', 'jahre': '1988 - 1990'},\n",
       " {'name': 'Abraxas', 'jahre': '1984 - 2009'},\n",
       " {'name': '4 Café Swing', 'jahre': '1982 - 2002'},\n",
       " {'name': 'Cheetah', 'jahre': '1968 - 1983'},\n",
       " {'name': 'Chez Romy Haag', 'jahre': '1974 - 1983'},\n",
       " {'name': 'Dschungel', 'jahre': '1978 - 1993'},\n",
       " {'name': 'Krik', 'jahre': '1982 - 2006'},\n",
       " {'name': 'Linientreu', 'jahre': '1982 - 2008'},\n",
       " {'name': 'Loft', 'jahre': '1981 - 1998'},\n",
       " {'name': 'Punkhouse', 'jahre': '1977 - 1978'},\n",
       " {'name': 'Quarter Latin', 'jahre': '1972 - 1989'},\n",
       " {'name': 'Risiko', 'jahre': '1981 - 1986'},\n",
       " {'name': 'Trash', 'jahre': '1982 - 2001'},\n",
       " {'name': 'UFO', 'jahre': '1988 - 1990'}]"
      ]
     },
     "execution_count": 21,
     "metadata": {},
     "output_type": "execute_result"
    }
   ],
   "source": [
    "clubs_west\n"
   ]
  },
  {
   "cell_type": "code",
   "execution_count": 22,
   "metadata": {},
   "outputs": [],
   "source": [
    "clubs_east = []\n",
    "\n",
    "def parse_text_to_dict(text):\n",
    "\n",
    "    \n",
    "    # Teile den Text in Zeilen\n",
    "    lines = text.split('\\n')\n",
    "    \n",
    "    # Initialisiere Variablen für den aktuellen Clubnamen und die Jahre\n",
    "    current_name = None\n",
    "    current_years = None\n",
    "    \n",
    "    # Regex-Muster für Jahre\n",
    "    year_pattern = re.compile(r'\\d{4} - \\d{4}')\n",
    "    \n",
    "    for line in lines:\n",
    "        # Entferne führende und nachfolgende Leerzeichen\n",
    "        line = line.strip()\n",
    "        \n",
    "        # Suche nach dem Jahrmuster in der Zeile\n",
    "        year_match = year_pattern.search(line)\n",
    "        \n",
    "        if year_match:\n",
    "            # Wenn ein Jahrmuster gefunden wird, speichere es\n",
    "            current_years = year_match.group(0)\n",
    "        elif 'Musikrichtungen & Subkulturen' in line:\n",
    "            # Wenn die Zeile 'Musikrichtungen & Subkulturen' enthält, ignoriere sie\n",
    "            continue\n",
    "        elif line:\n",
    "            # Wenn die Zeile weder Jahre noch 'Musikrichtungen & Subkulturen' enthält, speichere den Namen\n",
    "            if current_name and current_years:\n",
    "                # Wenn wir bereits einen Namen und Jahre haben, speichern wir das Dictionary\n",
    "                clubs_east.append({'name': current_name, 'jahre': current_years})\n",
    "                current_name = None\n",
    "                current_years = None\n",
    "            current_name = line\n",
    "            \n",
    "    # Füge das letzte Club-Dictionary hinzu, falls noch vorhanden\n",
    "    if current_name and current_years:\n",
    "        clubs_east.append({'name': current_name, 'jahre': current_years})\n",
    "    \n",
    "    return clubs"
   ]
  },
  {
   "cell_type": "code",
   "execution_count": 23,
   "metadata": {},
   "outputs": [],
   "source": [
    "image = Image.open(f'screenshot1.png')\n",
    "text = pytesseract.image_to_string(image)\n",
    "\n",
    "clubs = parse_text_to_dict(text)"
   ]
  },
  {
   "cell_type": "code",
   "execution_count": 10,
   "metadata": {},
   "outputs": [
    {
     "data": {
      "text/plain": [
       "[{'name': 'Franz', 'jahre': '1970 - 1997'},\n",
       " {'name': 'Knaack', 'jahre': '1952 - 2010'},\n",
       " {'name': '2 Kreisjugendklub Pablo Neruda', 'jahre': '1984 - 2010'},\n",
       " {'name': '|| Schoppenstube', 'jahre': '1963 - 2013'}]"
      ]
     },
     "execution_count": 10,
     "metadata": {},
     "output_type": "execute_result"
    }
   ],
   "source": [
    "clubs_east"
   ]
  },
  {
   "cell_type": "code",
   "execution_count": 24,
   "metadata": {},
   "outputs": [],
   "source": [
    "import pandas as pd "
   ]
  },
  {
   "cell_type": "code",
   "execution_count": 25,
   "metadata": {},
   "outputs": [],
   "source": [
    "clubs_west = pd.DataFrame(clubs_west)"
   ]
  },
  {
   "cell_type": "code",
   "execution_count": 26,
   "metadata": {},
   "outputs": [],
   "source": [
    "clubs_east = pd.DataFrame(clubs_east)"
   ]
  },
  {
   "cell_type": "code",
   "execution_count": 30,
   "metadata": {},
   "outputs": [],
   "source": [
    "clubs_west.to_csv('clubs_west.csv', index=False)"
   ]
  },
  {
   "cell_type": "code",
   "execution_count": 29,
   "metadata": {},
   "outputs": [],
   "source": [
    "clubs_east.to_csv('clubs_east.csv', index=False)      "
   ]
  }
 ],
 "metadata": {
  "kernelspec": {
   "display_name": "Python 3",
   "language": "python",
   "name": "python3"
  },
  "language_info": {
   "codemirror_mode": {
    "name": "ipython",
    "version": 3
   },
   "file_extension": ".py",
   "mimetype": "text/x-python",
   "name": "python",
   "nbconvert_exporter": "python",
   "pygments_lexer": "ipython3",
   "version": "3.11.8"
  }
 },
 "nbformat": 4,
 "nbformat_minor": 2
}

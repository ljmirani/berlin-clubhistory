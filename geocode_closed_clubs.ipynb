{
 "cells": [
  {
   "cell_type": "code",
   "execution_count": 3,
   "metadata": {},
   "outputs": [],
   "source": [
    "import pandas as pd "
   ]
  },
  {
   "cell_type": "code",
   "execution_count": 3,
   "metadata": {},
   "outputs": [],
   "source": [
    "import geocoder"
   ]
  },
  {
   "cell_type": "code",
   "execution_count": 1,
   "metadata": {},
   "outputs": [
    {
     "data": {
      "text/plain": [
       "True"
      ]
     },
     "execution_count": 1,
     "metadata": {},
     "output_type": "execute_result"
    }
   ],
   "source": [
    "import os\n",
    "api_key = os.getenv(\"api_key\")\n",
    "from dotenv import load_dotenv\n",
    "load_dotenv()"
   ]
  },
  {
   "cell_type": "code",
   "execution_count": 4,
   "metadata": {},
   "outputs": [],
   "source": [
    "df = pd.read_excel('closedclubs_screenshot.xlsx')  "
   ]
  },
  {
   "cell_type": "code",
   "execution_count": 6,
   "metadata": {},
   "outputs": [],
   "source": [
    "df[\"City\"] = \"Berlin\""
   ]
  },
  {
   "cell_type": "code",
   "execution_count": 8,
   "metadata": {},
   "outputs": [],
   "source": [
    "df['lat'] = None\n",
    "df['lng'] = None"
   ]
  },
  {
   "cell_type": "code",
   "execution_count": 9,
   "metadata": {},
   "outputs": [
    {
     "data": {
      "text/html": [
       "<div>\n",
       "<style scoped>\n",
       "    .dataframe tbody tr th:only-of-type {\n",
       "        vertical-align: middle;\n",
       "    }\n",
       "\n",
       "    .dataframe tbody tr th {\n",
       "        vertical-align: top;\n",
       "    }\n",
       "\n",
       "    .dataframe thead th {\n",
       "        text-align: right;\n",
       "    }\n",
       "</style>\n",
       "<table border=\"1\" class=\"dataframe\">\n",
       "  <thead>\n",
       "    <tr style=\"text-align: right;\">\n",
       "      <th></th>\n",
       "      <th>Name</th>\n",
       "      <th>Years</th>\n",
       "      <th>Opening</th>\n",
       "      <th>Closing</th>\n",
       "      <th>Street</th>\n",
       "      <th>Number</th>\n",
       "      <th>Postcode</th>\n",
       "      <th>City</th>\n",
       "      <th>lat</th>\n",
       "      <th>lng</th>\n",
       "    </tr>\n",
       "  </thead>\n",
       "  <tbody>\n",
       "    <tr>\n",
       "      <th>0</th>\n",
       "      <td>103</td>\n",
       "      <td>1997 - 2008</td>\n",
       "      <td>1997</td>\n",
       "      <td>2008</td>\n",
       "      <td>Falckensteinstraße</td>\n",
       "      <td>47</td>\n",
       "      <td>10997</td>\n",
       "      <td>Berlin</td>\n",
       "      <td>None</td>\n",
       "      <td>None</td>\n",
       "    </tr>\n",
       "    <tr>\n",
       "      <th>1</th>\n",
       "      <td>90 Grad</td>\n",
       "      <td>1989 - 2009</td>\n",
       "      <td>1989</td>\n",
       "      <td>2009</td>\n",
       "      <td>Dennewitzstraße</td>\n",
       "      <td>37</td>\n",
       "      <td>10785</td>\n",
       "      <td>Berlin</td>\n",
       "      <td>None</td>\n",
       "      <td>None</td>\n",
       "    </tr>\n",
       "    <tr>\n",
       "      <th>2</th>\n",
       "      <td>Ackerkeller</td>\n",
       "      <td>1992 - 2010</td>\n",
       "      <td>1992</td>\n",
       "      <td>2010</td>\n",
       "      <td>Bergmann­straße</td>\n",
       "      <td>68</td>\n",
       "      <td>10961</td>\n",
       "      <td>Berlin</td>\n",
       "      <td>None</td>\n",
       "      <td>None</td>\n",
       "    </tr>\n",
       "    <tr>\n",
       "      <th>3</th>\n",
       "      <td>Antje Oklesund</td>\n",
       "      <td>2005 - 2015</td>\n",
       "      <td>2005</td>\n",
       "      <td>2015</td>\n",
       "      <td>Rigaer Straße</td>\n",
       "      <td>71-73</td>\n",
       "      <td>10247</td>\n",
       "      <td>Berlin</td>\n",
       "      <td>None</td>\n",
       "      <td>None</td>\n",
       "    </tr>\n",
       "    <tr>\n",
       "      <th>4</th>\n",
       "      <td>Bar 25</td>\n",
       "      <td>2004 - 2010</td>\n",
       "      <td>2004</td>\n",
       "      <td>2010</td>\n",
       "      <td>Holzmarkt­straße</td>\n",
       "      <td>25</td>\n",
       "      <td>10243</td>\n",
       "      <td>Berlin</td>\n",
       "      <td>None</td>\n",
       "      <td>None</td>\n",
       "    </tr>\n",
       "  </tbody>\n",
       "</table>\n",
       "</div>"
      ],
      "text/plain": [
       "             Name        Years  Opening  Closing              Street Number  \\\n",
       "0             103  1997 - 2008     1997     2008  Falckensteinstraße     47   \n",
       "1         90 Grad  1989 - 2009     1989     2009     Dennewitzstraße     37   \n",
       "2     Ackerkeller  1992 - 2010     1992     2010    Bergmann­straße      68   \n",
       "3  Antje Oklesund  2005 - 2015     2005     2015      Rigaer Straße   71-73   \n",
       "4          Bar 25  2004 - 2010     2004     2010   Holzmarkt­straße      25   \n",
       "\n",
       "   Postcode    City   lat   lng  \n",
       "0     10997  Berlin  None  None  \n",
       "1     10785  Berlin  None  None  \n",
       "2     10961  Berlin  None  None  \n",
       "3     10247  Berlin  None  None  \n",
       "4     10243  Berlin  None  None  "
      ]
     },
     "execution_count": 9,
     "metadata": {},
     "output_type": "execute_result"
    }
   ],
   "source": [
    "df.head()"
   ]
  },
  {
   "cell_type": "code",
   "execution_count": 12,
   "metadata": {},
   "outputs": [],
   "source": [
    "df['Street'] = df['Street'].str.strip()"
   ]
  },
  {
   "cell_type": "code",
   "execution_count": 15,
   "metadata": {},
   "outputs": [],
   "source": [
    "for index, row in df.iterrows():\n",
    "    address = f\"{row['Street']},{row['Number']},{row['Postcode']},{row['City']}\"\n",
    "    g = geocoder.google(address, key=api_key)\n",
    "    if g.latlng: \n",
    "        df.at[index, 'lat'] = g.latlng[0]\n",
    "        df.at[index, 'lng'] = g.latlng[1]"
   ]
  },
  {
   "cell_type": "code",
   "execution_count": 17,
   "metadata": {},
   "outputs": [],
   "source": [
    "df.to_csv('closed_clubs.csv', index=False)"
   ]
  },
  {
   "cell_type": "code",
   "execution_count": 5,
   "metadata": {},
   "outputs": [],
   "source": [
    "df = pd.read_csv('closed_clubs.csv')    "
   ]
  },
  {
   "cell_type": "code",
   "execution_count": 7,
   "metadata": {},
   "outputs": [],
   "source": [
    "closed_years = df[\"Closing\"].value_counts()\n",
    "closed_years.to_csv(\"closed_years.csv\")\n"
   ]
  },
  {
   "cell_type": "code",
   "execution_count": 28,
   "metadata": {},
   "outputs": [],
   "source": [
    "df95 = df[df[\"Closing\"] < 1995]"
   ]
  },
  {
   "cell_type": "code",
   "execution_count": 34,
   "metadata": {},
   "outputs": [],
   "source": [
    "df95.to_csv('closed_clubs_95.csv', index=False)"
   ]
  },
  {
   "cell_type": "code",
   "execution_count": 27,
   "metadata": {},
   "outputs": [],
   "source": [
    "df95_00 = df[(df[\"Closing\"] < 2000) & (df[\"Closing\"] > 1995)]\n"
   ]
  },
  {
   "cell_type": "code",
   "execution_count": 35,
   "metadata": {},
   "outputs": [],
   "source": [
    "df95_00.to_csv('closed_clubs_95_00.csv', index=False)"
   ]
  },
  {
   "cell_type": "code",
   "execution_count": 29,
   "metadata": {},
   "outputs": [
    {
     "name": "stderr",
     "output_type": "stream",
     "text": [
      "/var/folders/0_/d9j6qn0x6ln60fy8mn1f_t3w0000gn/T/ipykernel_75021/1037192476.py:1: UserWarning: Boolean Series key will be reindexed to match DataFrame index.\n",
      "  df00_05 = df[df[\"Closing\"] < 2005][df[\"Closing\"] > 2000]\n"
     ]
    }
   ],
   "source": [
    "df00_05 = df[df[\"Closing\"] < 2005][df[\"Closing\"] > 2000] "
   ]
  },
  {
   "cell_type": "code",
   "execution_count": 36,
   "metadata": {},
   "outputs": [],
   "source": [
    "df00_05.to_csv('closed_clubs_00_05.csv', index=False)"
   ]
  },
  {
   "cell_type": "code",
   "execution_count": 30,
   "metadata": {},
   "outputs": [
    {
     "name": "stderr",
     "output_type": "stream",
     "text": [
      "/var/folders/0_/d9j6qn0x6ln60fy8mn1f_t3w0000gn/T/ipykernel_75021/4003471028.py:1: UserWarning: Boolean Series key will be reindexed to match DataFrame index.\n",
      "  df05_10 = df[df[\"Closing\"] < 2010][df[\"Closing\"] > 2005]\n"
     ]
    }
   ],
   "source": [
    "df05_10 = df[df[\"Closing\"] < 2010][df[\"Closing\"] > 2005] "
   ]
  },
  {
   "cell_type": "code",
   "execution_count": 37,
   "metadata": {},
   "outputs": [],
   "source": [
    "df05_10.to_csv('closed_clubs_05_10.csv', index=False)"
   ]
  },
  {
   "cell_type": "code",
   "execution_count": 31,
   "metadata": {},
   "outputs": [
    {
     "name": "stderr",
     "output_type": "stream",
     "text": [
      "/var/folders/0_/d9j6qn0x6ln60fy8mn1f_t3w0000gn/T/ipykernel_75021/2274916253.py:1: UserWarning: Boolean Series key will be reindexed to match DataFrame index.\n",
      "  df10_15 = df[df[\"Closing\"] < 2015][df[\"Closing\"] > 2010]\n"
     ]
    }
   ],
   "source": [
    "df10_15 = df[df[\"Closing\"] < 2015][df[\"Closing\"] > 2010] "
   ]
  },
  {
   "cell_type": "code",
   "execution_count": 38,
   "metadata": {},
   "outputs": [],
   "source": [
    "df10_15.to_csv('closed_clubs_10_15.csv', index=False)"
   ]
  },
  {
   "cell_type": "code",
   "execution_count": 32,
   "metadata": {},
   "outputs": [
    {
     "name": "stderr",
     "output_type": "stream",
     "text": [
      "/var/folders/0_/d9j6qn0x6ln60fy8mn1f_t3w0000gn/T/ipykernel_75021/2776727963.py:1: UserWarning: Boolean Series key will be reindexed to match DataFrame index.\n",
      "  df15_20 = df[df[\"Closing\"] < 2020][df[\"Closing\"] > 2015]\n"
     ]
    }
   ],
   "source": [
    "df15_20 = df[df[\"Closing\"] < 2020][df[\"Closing\"] > 2015] "
   ]
  },
  {
   "cell_type": "code",
   "execution_count": 39,
   "metadata": {},
   "outputs": [],
   "source": [
    "df15_20.to_csv('closed_clubs_15_20.csv', index=False)"
   ]
  },
  {
   "cell_type": "code",
   "execution_count": 33,
   "metadata": {},
   "outputs": [],
   "source": [
    "df20 = df[df[\"Closing\"] > 2020] "
   ]
  },
  {
   "cell_type": "code",
   "execution_count": 40,
   "metadata": {},
   "outputs": [],
   "source": [
    "df20.to_csv('closed_clubs_20.csv', index=False) "
   ]
  }
 ],
 "metadata": {
  "kernelspec": {
   "display_name": "Python 3",
   "language": "python",
   "name": "python3"
  },
  "language_info": {
   "codemirror_mode": {
    "name": "ipython",
    "version": 3
   },
   "file_extension": ".py",
   "mimetype": "text/x-python",
   "name": "python",
   "nbconvert_exporter": "python",
   "pygments_lexer": "ipython3",
   "version": "3.11.8"
  }
 },
 "nbformat": 4,
 "nbformat_minor": 2
}

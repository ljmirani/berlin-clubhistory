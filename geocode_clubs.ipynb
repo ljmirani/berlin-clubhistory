{
 "cells": [
  {
   "cell_type": "code",
   "execution_count": 1,
   "metadata": {},
   "outputs": [],
   "source": [
    "import pandas as pd "
   ]
  },
  {
   "cell_type": "code",
   "execution_count": 2,
   "metadata": {},
   "outputs": [],
   "source": [
    "df = pd.read_csv('clubs.csv')    "
   ]
  },
  {
   "cell_type": "code",
   "execution_count": 4,
   "metadata": {},
   "outputs": [],
   "source": [
    "df['lat'] = None\n",
    "df['lng'] = None"
   ]
  },
  {
   "cell_type": "code",
   "execution_count": 8,
   "metadata": {},
   "outputs": [
    {
     "data": {
      "text/html": [
       "<div>\n",
       "<style scoped>\n",
       "    .dataframe tbody tr th:only-of-type {\n",
       "        vertical-align: middle;\n",
       "    }\n",
       "\n",
       "    .dataframe tbody tr th {\n",
       "        vertical-align: top;\n",
       "    }\n",
       "\n",
       "    .dataframe thead th {\n",
       "        text-align: right;\n",
       "    }\n",
       "</style>\n",
       "<table border=\"1\" class=\"dataframe\">\n",
       "  <thead>\n",
       "    <tr style=\"text-align: right;\">\n",
       "      <th></th>\n",
       "      <th>name</th>\n",
       "      <th>link</th>\n",
       "      <th>address</th>\n",
       "      <th>lat</th>\n",
       "      <th>lng</th>\n",
       "    </tr>\n",
       "  </thead>\n",
       "  <tbody>\n",
       "    <tr>\n",
       "      <th>0</th>\n",
       "      <td>://about blank</td>\n",
       "      <td>https://www.berlin.de/clubs-und-party/clubguid...</td>\n",
       "      <td>Markgrafendamm 24c 10245 Berlin</td>\n",
       "      <td>None</td>\n",
       "      <td>None</td>\n",
       "    </tr>\n",
       "    <tr>\n",
       "      <th>1</th>\n",
       "      <td>Aeden</td>\n",
       "      <td>https://www.berlin.de/clubs-und-party/clubguid...</td>\n",
       "      <td>Schleusenufer 3 10997 Berlin</td>\n",
       "      <td>None</td>\n",
       "      <td>None</td>\n",
       "    </tr>\n",
       "    <tr>\n",
       "      <th>2</th>\n",
       "      <td>Æve</td>\n",
       "      <td>https://www.berlin.de/clubs-und-party/clubguid...</td>\n",
       "      <td>Vor dem Schlesischen Tor 3 10997 Berlin</td>\n",
       "      <td>None</td>\n",
       "      <td>None</td>\n",
       "    </tr>\n",
       "    <tr>\n",
       "      <th>3</th>\n",
       "      <td>Alte Kantine</td>\n",
       "      <td>https://www.berlin.de/clubs-und-party/clubguid...</td>\n",
       "      <td>Knaackstr. 97 10435 Berlin</td>\n",
       "      <td>None</td>\n",
       "      <td>None</td>\n",
       "    </tr>\n",
       "    <tr>\n",
       "      <th>4</th>\n",
       "      <td>Arena Club</td>\n",
       "      <td>https://www.berlin.de/clubs-und-party/clubguid...</td>\n",
       "      <td>Eichenstr. 4 12435 Berlin</td>\n",
       "      <td>None</td>\n",
       "      <td>None</td>\n",
       "    </tr>\n",
       "    <tr>\n",
       "      <th>...</th>\n",
       "      <td>...</td>\n",
       "      <td>...</td>\n",
       "      <td>...</td>\n",
       "      <td>...</td>\n",
       "      <td>...</td>\n",
       "    </tr>\n",
       "    <tr>\n",
       "      <th>82</th>\n",
       "      <td>Wild At Heart</td>\n",
       "      <td>https://www.berlin.de/clubs-und-party/clubguid...</td>\n",
       "      <td>Wiener Str. 20 10999 Berlin</td>\n",
       "      <td>None</td>\n",
       "      <td>None</td>\n",
       "    </tr>\n",
       "    <tr>\n",
       "      <th>83</th>\n",
       "      <td>Yaam</td>\n",
       "      <td>https://www.berlin.de/clubs-und-party/clubguid...</td>\n",
       "      <td>An der Schillingbrücke 10243 Berlin</td>\n",
       "      <td>None</td>\n",
       "      <td>None</td>\n",
       "    </tr>\n",
       "    <tr>\n",
       "      <th>84</th>\n",
       "      <td>Zur Klappe</td>\n",
       "      <td>https://www.berlin.de/clubs-und-party/clubguid...</td>\n",
       "      <td>Yorckstr. 2 10965 Berlin</td>\n",
       "      <td>None</td>\n",
       "      <td>None</td>\n",
       "    </tr>\n",
       "    <tr>\n",
       "      <th>85</th>\n",
       "      <td>60HZ</td>\n",
       "      <td>https://www.berlin.de/clubs-und-party/clubguid...</td>\n",
       "      <td>Waldemarstr. 108 10997 Berlin</td>\n",
       "      <td>None</td>\n",
       "      <td>None</td>\n",
       "    </tr>\n",
       "    <tr>\n",
       "      <th>86</th>\n",
       "      <td>808 Berlin</td>\n",
       "      <td>https://www.berlin.de/clubs-und-party/clubguid...</td>\n",
       "      <td>Budapester Straße 38-40 10787 Berlin</td>\n",
       "      <td>None</td>\n",
       "      <td>None</td>\n",
       "    </tr>\n",
       "  </tbody>\n",
       "</table>\n",
       "<p>87 rows × 5 columns</p>\n",
       "</div>"
      ],
      "text/plain": [
       "              name                                               link  \\\n",
       "0   ://about blank  https://www.berlin.de/clubs-und-party/clubguid...   \n",
       "1            Aeden  https://www.berlin.de/clubs-und-party/clubguid...   \n",
       "2              Æve  https://www.berlin.de/clubs-und-party/clubguid...   \n",
       "3     Alte Kantine  https://www.berlin.de/clubs-und-party/clubguid...   \n",
       "4       Arena Club  https://www.berlin.de/clubs-und-party/clubguid...   \n",
       "..             ...                                                ...   \n",
       "82   Wild At Heart  https://www.berlin.de/clubs-und-party/clubguid...   \n",
       "83            Yaam  https://www.berlin.de/clubs-und-party/clubguid...   \n",
       "84      Zur Klappe  https://www.berlin.de/clubs-und-party/clubguid...   \n",
       "85            60HZ  https://www.berlin.de/clubs-und-party/clubguid...   \n",
       "86      808 Berlin  https://www.berlin.de/clubs-und-party/clubguid...   \n",
       "\n",
       "                                    address   lat   lng  \n",
       "0           Markgrafendamm 24c 10245 Berlin  None  None  \n",
       "1              Schleusenufer 3 10997 Berlin  None  None  \n",
       "2   Vor dem Schlesischen Tor 3 10997 Berlin  None  None  \n",
       "3                Knaackstr. 97 10435 Berlin  None  None  \n",
       "4                 Eichenstr. 4 12435 Berlin  None  None  \n",
       "..                                      ...   ...   ...  \n",
       "82              Wiener Str. 20 10999 Berlin  None  None  \n",
       "83      An der Schillingbrücke 10243 Berlin  None  None  \n",
       "84                 Yorckstr. 2 10965 Berlin  None  None  \n",
       "85            Waldemarstr. 108 10997 Berlin  None  None  \n",
       "86     Budapester Straße 38-40 10787 Berlin  None  None  \n",
       "\n",
       "[87 rows x 5 columns]"
      ]
     },
     "execution_count": 8,
     "metadata": {},
     "output_type": "execute_result"
    }
   ],
   "source": [
    "df"
   ]
  },
  {
   "cell_type": "code",
   "execution_count": 11,
   "metadata": {},
   "outputs": [],
   "source": [
    "import geocoder"
   ]
  },
  {
   "cell_type": "code",
   "execution_count": 23,
   "metadata": {},
   "outputs": [],
   "source": [
    "for index, row in df.iterrows():\n",
    "    g = geocoder.google(row['address'], key=api_key)\n",
    "    df.at[index, 'lat'] = g.latlng[0]\n",
    "    df.at[index, 'lng'] = g.latlng[1]\n"
   ]
  },
  {
   "cell_type": "code",
   "execution_count": 25,
   "metadata": {},
   "outputs": [],
   "source": [
    "df.to_csv('clubs.csv', index=False)"
   ]
  }
 ],
 "metadata": {
  "kernelspec": {
   "display_name": "Python 3",
   "language": "python",
   "name": "python3"
  },
  "language_info": {
   "codemirror_mode": {
    "name": "ipython",
    "version": 3
   },
   "file_extension": ".py",
   "mimetype": "text/x-python",
   "name": "python",
   "nbconvert_exporter": "python",
   "pygments_lexer": "ipython3",
   "version": "3.11.8"
  }
 },
 "nbformat": 4,
 "nbformat_minor": 2
}

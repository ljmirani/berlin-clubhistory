{
 "cells": [
  {
   "cell_type": "markdown",
   "metadata": {},
   "source": [
    "# Lede 24: Project 3"
   ]
  },
  {
   "cell_type": "markdown",
   "metadata": {},
   "source": [
    "### Clubs aktuell"
   ]
  },
  {
   "cell_type": "code",
   "execution_count": 2,
   "metadata": {},
   "outputs": [],
   "source": [
    "import requests"
   ]
  },
  {
   "cell_type": "code",
   "execution_count": 3,
   "metadata": {},
   "outputs": [],
   "source": [
    "from bs4 import BeautifulSoup"
   ]
  },
  {
   "cell_type": "code",
   "execution_count": 4,
   "metadata": {},
   "outputs": [],
   "source": [
    "club_html = requests.get(\"https://www.berlin.de/clubs-und-party/clubguide/a-z/\").text"
   ]
  },
  {
   "cell_type": "code",
   "execution_count": 5,
   "metadata": {},
   "outputs": [
    {
     "name": "stdout",
     "output_type": "stream",
     "text": [
      "<!DOCTYPE html>\n",
      "<html lang=\"de\" class=\"\">\n",
      "\n",
      "<head>\n",
      "  <meta charset=\"UTF-8\">\n",
      "  <title>Clubs von A - Z \n"
     ]
    }
   ],
   "source": [
    "print(club_html[:100])"
   ]
  },
  {
   "cell_type": "code",
   "execution_count": 6,
   "metadata": {},
   "outputs": [
    {
     "data": {
      "text/plain": [
       "bs4.BeautifulSoup"
      ]
     },
     "execution_count": 6,
     "metadata": {},
     "output_type": "execute_result"
    }
   ],
   "source": [
    "soup = BeautifulSoup(club_html)\n",
    "type(soup)"
   ]
  },
  {
   "cell_type": "markdown",
   "metadata": {},
   "source": [
    "### Scraping the links and titles of each club"
   ]
  },
  {
   "cell_type": "code",
   "execution_count": 7,
   "metadata": {},
   "outputs": [
    {
     "data": {
      "text/plain": [
       "[<a href=\"/\"><img alt=\"Berlin.de\" class=\"logo\" src=\"/css/berlin_de/foxtrot/images/logo_berlin_m_srgb.svg\" title=\"Link zu: Startseite Berlin.de\"/></a>,\n",
       " <a href=\"/\" title=\"Link zu: Startseite Berlin.de\"><span class=\"institution\">Berlin.de</span><span class=\"title\">Das offizielle Hauptstadtportal</span></a>,\n",
       " <a data-target=\"channel--politik\" href=\"/politik-verwaltung/\">Politik und Verwaltung</a>,\n",
       " <a data-target=\"channel--kultur\" href=\"/kultur-und-tickets/\">Kultur</a>,\n",
       " <a data-target=\"channel--tourismus\" href=\"/tourismus/\">Tourismus</a>,\n",
       " <a data-target=\"channel--special\" href=\"/special/\">Stadtleben</a>,\n",
       " <a href=\"/wir-ueber-uns/8100503-4219174-erklaerung-zur-barrierefreiheit.html\">Erklärung zur Barrierefreiheit</a>,\n",
       " <a href=\"/wir-ueber-uns/8100503-4219174-erklaerung-zur-barrierefreiheit.html#hansprechperson\">Kontakt zur Ansprechperson</a>,\n",
       " <a href=\"/moderne-verwaltung/barrierefreie-it/anlaufstellen/kompetenzstelle/artikel.988002.php\">Barrierefreie Informations- und Kommunikationstechnik (IKT)</a>,\n",
       " <a class=\"\" href=\"/\" hreflang=\"de\">Deutsch</a>,\n",
       " <a class=\"\" href=\"/en/\" hreflang=\"en\">English</a>,\n",
       " <a class=\"\" href=\"/fr/\" hreflang=\"fr\">Français</a>,\n",
       " <a class=\"\" href=\"/it/\" hreflang=\"it\">Italiano</a>,\n",
       " <a href=\"/stadtplan/\"><i aria-hidden=\"true\" class=\"fas fa-map\"></i> Stadtplan</a>,\n",
       " <a href=\"/mail/\"><i aria-hidden=\"true\" class=\"fas fa-envelope\"></i> Berlin.de Mail</a>,\n",
       " <a href=\"https://de-de.facebook.com/Hauptstadtportal/\"><i aria-hidden=\"true\" class=\"fab fa-facebook\"></i> Berlin.de auf Facebook</a>,\n",
       " <a href=\"https://www.instagram.com/hauptstadtportal/\"><i aria-hidden=\"true\" class=\"fab fa-instagram\"></i> Berlin.de auf Instagram</a>,\n",
       " <a class=\"home\" href=\"/\" itemprop=\"item\" title=\"Link zu: Startseite Berlin.de\"><span itemprop=\"name\">Startseite</span></a>,\n",
       " <a class=\"\" href=\"/clubs-und-party/\" itemprop=\"item\" target=\"_top\"><span itemprop=\"name\">Clubs &amp; Party</span></a>,\n",
       " <a class=\"\" href=\"/clubs-und-party/clubguide/\" itemprop=\"item\" target=\"_top\"><span itemprop=\"name\">Clubguide</span></a>,\n",
       " <a class=\"\" href=\"/clubs-und-party/clubguide/a-z/\" itemprop=\"item\" target=\"_top\"><span itemprop=\"name\">Clubs von A - Z</span></a>,\n",
       " <a aria-label=\"Link deaktiviert, keine Inhalte.\" href=\"#char_A\">A</a>,\n",
       " <a aria-label=\"Link deaktiviert, keine Inhalte.\" href=\"#char_B\">B</a>,\n",
       " <a aria-label=\"Link deaktiviert, keine Inhalte.\" href=\"#char_C\">C</a>,\n",
       " <a aria-label=\"Link deaktiviert, keine Inhalte.\" href=\"#char_D\">D</a>,\n",
       " <a aria-label=\"Link deaktiviert, keine Inhalte.\" href=\"#char_E\">E</a>,\n",
       " <a aria-label=\"Link deaktiviert, keine Inhalte.\" href=\"#char_F\">F</a>,\n",
       " <a aria-label=\"Link deaktiviert, keine Inhalte.\" href=\"#char_G\">G</a>,\n",
       " <a aria-label=\"Link deaktiviert, keine Inhalte.\" href=\"#char_H\">H</a>,\n",
       " <a aria-label=\"Link deaktiviert, keine Inhalte.\" href=\"#char_I\">I</a>,\n",
       " <a aria-label=\"Link deaktiviert, keine Inhalte.\" href=\"#char_K\">K</a>,\n",
       " <a aria-label=\"Link deaktiviert, keine Inhalte.\" href=\"#char_L\">L</a>,\n",
       " <a aria-label=\"Link deaktiviert, keine Inhalte.\" href=\"#char_M\">M</a>,\n",
       " <a aria-label=\"Link deaktiviert, keine Inhalte.\" href=\"#char_O\">O</a>,\n",
       " <a aria-label=\"Link deaktiviert, keine Inhalte.\" href=\"#char_P\">P</a>,\n",
       " <a aria-label=\"Link deaktiviert, keine Inhalte.\" href=\"#char_Q\">Q</a>,\n",
       " <a aria-label=\"Link deaktiviert, keine Inhalte.\" href=\"#char_R\">R</a>,\n",
       " <a aria-label=\"Link deaktiviert, keine Inhalte.\" href=\"#char_S\">S</a>,\n",
       " <a aria-label=\"Link deaktiviert, keine Inhalte.\" href=\"#char_T\">T</a>,\n",
       " <a aria-label=\"Link deaktiviert, keine Inhalte.\" href=\"#char_U\">U</a>,\n",
       " <a aria-label=\"Link deaktiviert, keine Inhalte.\" href=\"#char_V\">V</a>,\n",
       " <a aria-label=\"Link deaktiviert, keine Inhalte.\" href=\"#char_W\">W</a>,\n",
       " <a aria-label=\"Link deaktiviert, keine Inhalte.\" href=\"#char_Y\">Y</a>,\n",
       " <a aria-label=\"Link deaktiviert, keine Inhalte.\" href=\"#char_Z\">Z</a>,\n",
       " <a aria-label=\"Link deaktiviert, keine Inhalte.\" href=\"#char_?\">?</a>,\n",
       " <a class=\"nowidows\" href=\"/clubs-und-party/clubguide/8870883-2857960-about-blank.html\" target=\"_top\">://about blank</a>,\n",
       " <a class=\"nowidows\" href=\"/clubs-und-party/clubguide/8870937-2857960-aeden.html\" target=\"_top\">Aeden</a>,\n",
       " <a class=\"nowidows\" href=\"/clubs-und-party/clubguide/8870949-2857960-aeve.html\" target=\"_top\">Æve</a>,\n",
       " <a class=\"nowidows\" href=\"/clubs-und-party/clubguide/8870964-2857960-alte-kantine.html\" target=\"_top\">Alte Kantine</a>,\n",
       " <a class=\"nowidows\" href=\"/clubs-und-party/clubguide/8870988-2857960-arena-club.html\" target=\"_top\">Arena Club</a>,\n",
       " <a class=\"nowidows\" href=\"/clubs-und-party/clubguide/8871015-2857960-astra-kulturhaus.html\" target=\"_top\">Astra Kulturhaus</a>,\n",
       " <a class=\"nowidows\" href=\"/clubs-und-party/clubguide/8871027-2857960-avenue-berlin.html\" target=\"_top\">Avenue Berlin</a>,\n",
       " <a class=\"nowidows\" href=\"/clubs-und-party/clubguide/8871066-2857960-badehaus.html\" target=\"_top\">Badehaus</a>,\n",
       " <a class=\"nowidows\" href=\"/clubs-und-party/clubguide/8871084-2857960-ballhaus-spandau.html\" target=\"_top\">Ballhaus Spandau</a>,\n",
       " <a class=\"nowidows\" href=\"/clubs-und-party/clubguide/8871099-2857960-beate-uwe.html\" target=\"_top\">Beate Uwe</a>,\n",
       " <a class=\"nowidows\" href=\"/clubs-und-party/clubguide/8871117-2857960-berghain.html\" target=\"_top\">Berghain</a>,\n",
       " <a class=\"nowidows\" href=\"/clubs-und-party/clubguide/8871129-2857960-bi-nuu.html\" target=\"_top\">Bi Nuu</a>,\n",
       " <a class=\"nowidows\" href=\"/clubs-und-party/clubguide/8871141-2857960-birgit-und-bier.html\" target=\"_top\">Birgit und Bier</a>,\n",
       " <a class=\"nowidows\" href=\"/clubs-und-party/clubguide/8871156-2857960-bohnengold.html\" target=\"_top\">Bohnengold</a>,\n",
       " <a class=\"nowidows\" href=\"/clubs-und-party/clubguide/8871171-2857960-bricks.html\" target=\"_top\">Bricks</a>,\n",
       " <a class=\"nowidows\" href=\"/clubs-und-party/clubguide/8871183-2857960-bulbul.html\" target=\"_top\">Bulbul</a>,\n",
       " <a class=\"nowidows\" href=\"/clubs-und-party/clubguide/8871192-2857960-busche-club.html\" target=\"_top\">Busche Club</a>,\n",
       " <a class=\"nowidows\" href=\"/clubs-und-party/clubguide/8871201-2857960-cassiopeia.html\" target=\"_top\">Cassiopeia</a>,\n",
       " <a class=\"nowidows\" href=\"/clubs-und-party/clubguide/8871213-2857960-chesters.html\" target=\"_top\">Chesters</a>,\n",
       " <a class=\"nowidows\" href=\"/clubs-und-party/clubguide/8871261-2857960-claerchens-ballhaus.html\" target=\"_top\">Clärchens Ballhaus</a>,\n",
       " <a class=\"nowidows\" href=\"/clubs-und-party/clubguide/8871273-2857960-club-der-visionaere.html\" target=\"_top\">Club der Visionäre</a>,\n",
       " <a class=\"nowidows\" href=\"/clubs-und-party/clubguide/8871291-2857960-connection-club.html\" target=\"_top\">Connection Club</a>,\n",
       " <a class=\"nowidows\" href=\"/clubs-und-party/clubguide/8871306-2857960-dean.html\" target=\"_top\">Dean</a>,\n",
       " <a class=\"nowidows\" href=\"/clubs-und-party/clubguide/8871318-2857960-der-weisse-hase.html\" target=\"_top\">Der Weiße Hase</a>,\n",
       " <a class=\"nowidows\" href=\"/clubs-und-party/clubguide/8871327-2857960-duncker.html\" target=\"_top\">Duncker</a>,\n",
       " <a class=\"nowidows\" href=\"/clubs-und-party/clubguide/8871339-2857960-else.html\" target=\"_top\">Else</a>,\n",
       " <a class=\"nowidows\" href=\"/clubs-und-party/clubguide/8871351-2857960-farbfernseher.html\" target=\"_top\">Farbfernseher</a>,\n",
       " <a class=\"nowidows\" href=\"/clubs-und-party/clubguide/8871399-2857960-frannz.html\" target=\"_top\">frannz</a>,\n",
       " <a class=\"nowidows\" href=\"/clubs-und-party/clubguide/8871423-2857960-golden-gate.html\" target=\"_top\">Golden Gate</a>,\n",
       " <a class=\"nowidows\" href=\"/clubs-und-party/clubguide/8871447-2857960-gretchen.html\" target=\"_top\">Gretchen</a>,\n",
       " <a class=\"nowidows\" href=\"/clubs-und-party/clubguide/8871459-2857960-hafenbar.html\" target=\"_top\">Hafenbar</a>,\n",
       " <a class=\"nowidows\" href=\"/clubs-und-party/clubguide/8871474-2857960-harmonie.html\" target=\"_top\">Harmonie</a>,\n",
       " <a class=\"nowidows\" href=\"/clubs-und-party/clubguide/8871486-2857960-havanna-berlin.html\" target=\"_top\">Havanna Berlin</a>,\n",
       " <a class=\"nowidows\" href=\"/clubs-und-party/clubguide/8871498-2857960-hoppetosse.html\" target=\"_top\">Hoppetosse</a>,\n",
       " <a class=\"nowidows\" href=\"/clubs-und-party/clubguide/8871513-2857960-humboldthain.html\" target=\"_top\">Humboldthain</a>,\n",
       " <a class=\"nowidows\" href=\"/clubs-und-party/clubguide/8871528-2857960-insomnia.html\" target=\"_top\">Insomnia</a>,\n",
       " <a class=\"nowidows\" href=\"/clubs-und-party/clubguide/8871540-2857960-ipse.html\" target=\"_top\">Ipse</a>,\n",
       " <a class=\"nowidows\" href=\"/clubs-und-party/clubguide/8871588-2857960-kaffee-burger.html\" target=\"_top\">Kaffee Burger</a>,\n",
       " <a class=\"nowidows\" href=\"/clubs-und-party/clubguide/8871600-2857960-kalkscheune.html\" target=\"_top\">Kalkscheune</a>,\n",
       " <a class=\"nowidows\" href=\"/clubs-und-party/clubguide/8871612-2857960-kantine-am-berghain.html\" target=\"_top\">Kantine am Berghain</a>,\n",
       " <a class=\"nowidows\" href=\"/clubs-und-party/clubguide/8871624-2857960-kater-blau.html\" target=\"_top\">Kater Blau</a>,\n",
       " <a class=\"nowidows\" href=\"/clubs-und-party/clubguide/8871636-2857960-kesselhaus.html\" target=\"_top\">Kesselhaus</a>,\n",
       " <a class=\"nowidows\" href=\"/clubs-und-party/clubguide/8871648-2857960-kitkatclub.html\" target=\"_top\">KitKatClub</a>,\n",
       " <a class=\"nowidows\" href=\"/clubs-und-party/clubguide/8871690-2857960-lido.html\" target=\"_top\">Lido</a>,\n",
       " <a class=\"nowidows\" href=\"/clubs-und-party/clubguide/8871708-2857960-loci-loft.html\" target=\"_top\">Loci Loft</a>,\n",
       " <a class=\"nowidows\" href=\"/clubs-und-party/clubguide/8871660-2857960-lux.html\" target=\"_top\">L.U.X.</a>,\n",
       " <a class=\"nowidows\" href=\"/clubs-und-party/clubguide/8871732-2857960-matrix-club-berlin.html\" target=\"_top\">Matrix Club Berlin</a>,\n",
       " <a class=\"nowidows\" href=\"/clubs-und-party/clubguide/8871747-2857960-maxxim-club.html\" target=\"_top\">Maxxim Club</a>,\n",
       " <a class=\"nowidows\" href=\"/clubs-und-party/clubguide/8871756-2857960-maze.html\" target=\"_top\">Maze</a>,\n",
       " <a class=\"nowidows\" href=\"/clubs-und-party/clubguide/8871720-2857960-mbia.html\" target=\"_top\">M-bia</a>,\n",
       " <a class=\"nowidows\" href=\"/clubs-und-party/clubguide/8871768-2857960-mensch-meier.html\" target=\"_top\">Mensch Meier</a>,\n",
       " <a class=\"nowidows\" href=\"/clubs-und-party/clubguide/8871780-2857960-musik-und-frieden.html\" target=\"_top\">Musik und Frieden</a>,\n",
       " <a class=\"nowidows\" href=\"/clubs-und-party/clubguide/8871792-2857960-ohm.html\" target=\"_top\">Ohm</a>,\n",
       " <a class=\"nowidows\" href=\"/clubs-und-party/clubguide/8871804-2857960-ost.html\" target=\"_top\">Ost</a>,\n",
       " <a class=\"nowidows\" href=\"/clubs-und-party/clubguide/8871816-2857960-phono-club.html\" target=\"_top\">Phono Club</a>,\n",
       " <a class=\"nowidows\" href=\"/clubs-und-party/clubguide/8871834-2857960-polygon.html\" target=\"_top\">Polygon</a>,\n",
       " <a class=\"nowidows\" href=\"/clubs-und-party/clubguide/8871846-2857960-postbahnhof-club.html\" target=\"_top\">Postbahnhof Club</a>,\n",
       " <a class=\"nowidows\" href=\"/clubs-und-party/clubguide/8871858-2857960-prince-charles.html\" target=\"_top\">Prince Charles</a>,\n",
       " <a class=\"nowidows\" href=\"/clubs-und-party/clubguide/8871888-2857960-privatclub.html\" target=\"_top\">PrivatClub</a>,\n",
       " <a class=\"nowidows\" href=\"/clubs-und-party/clubguide/8871900-2857960-quasimodo.html\" target=\"_top\">Quasimodo</a>,\n",
       " <a class=\"nowidows\" href=\"/clubs-und-party/clubguide/8871915-2857960-revier-suedost.html\" target=\"_top\">Revier Südost</a>,\n",
       " <a class=\"nowidows\" href=\"/clubs-und-party/clubguide/8871927-2857960-ritter-butzke.html\" target=\"_top\">Ritter Butzke</a>,\n",
       " <a class=\"nowidows\" href=\"/clubs-und-party/clubguide/8871939-2857960-roadrunners-paradise-club.html\" target=\"_top\">Roadrunner's Paradise Club</a>,\n",
       " <a class=\"nowidows\" href=\"/clubs-und-party/clubguide/8871951-2857960-rummelsburg.html\" target=\"_top\">Rummelsburg</a>,\n",
       " <a class=\"nowidows\" href=\"/clubs-und-party/clubguide/8871969-2857960-sage-club.html\" target=\"_top\">Sage Club</a>,\n",
       " <a class=\"nowidows\" href=\"/clubs-und-party/clubguide/8871981-2857960-salon-zur-wilden-renate.html\" target=\"_top\">Salon zur wilden Renate</a>,\n",
       " <a class=\"nowidows\" href=\"/clubs-und-party/clubguide/8871999-2857960-schwuz.html\" target=\"_top\">SchwuZ</a>,\n",
       " <a class=\"nowidows\" href=\"/clubs-und-party/clubguide/8872011-2857960-silverwings-club.html\" target=\"_top\">Silverwings Club</a>,\n",
       " <a class=\"nowidows\" href=\"/clubs-und-party/clubguide/8872029-2857960-sisyphos.html\" target=\"_top\">Sisyphos</a>,\n",
       " <a class=\"nowidows\" href=\"/clubs-und-party/clubguide/8872059-2857960-so36.html\" target=\"_top\">SO36</a>,\n",
       " <a class=\"nowidows\" href=\"/clubs-und-party/clubguide/8872071-2857960-soda-club.html\" target=\"_top\">Soda Club</a>,\n",
       " <a class=\"nowidows\" href=\"/clubs-und-party/clubguide/8872080-2857960-soulcat.html\" target=\"_top\">Soulcat</a>,\n",
       " <a class=\"nowidows\" href=\"/clubs-und-party/clubguide/8872092-2857960-st-georg.html\" target=\"_top\">St. Georg</a>,\n",
       " <a class=\"nowidows\" href=\"/clubs-und-party/clubguide/8872104-2857960-suicide-club.html\" target=\"_top\">Suicide Club</a>,\n",
       " <a class=\"nowidows\" href=\"/clubs-und-party/clubguide/8872119-2857960-surprise-club.html\" target=\"_top\">Surprise Club</a>,\n",
       " <a class=\"nowidows\" href=\"/clubs-und-party/clubguide/8872137-2857960-the-pearl.html\" target=\"_top\">The Pearl</a>,\n",
       " <a class=\"nowidows\" href=\"/clubs-und-party/clubguide/8872149-2857960-traffic-club.html\" target=\"_top\">Traffic Club</a>,\n",
       " <a class=\"nowidows\" href=\"/clubs-und-party/clubguide/8872188-2857960-tresor.html\" target=\"_top\">Tresor</a>,\n",
       " <a class=\"nowidows\" href=\"/clubs-und-party/clubguide/8872200-2857960-untertage.html\" target=\"_top\">Untertage</a>,\n",
       " <a class=\"nowidows\" href=\"/clubs-und-party/clubguide/8872209-2857960-void-club.html\" target=\"_top\">Void Club</a>,\n",
       " <a class=\"nowidows\" href=\"/clubs-und-party/clubguide/8872224-2857960-watergate.html\" target=\"_top\">Watergate</a>,\n",
       " <a class=\"nowidows\" href=\"/clubs-und-party/clubguide/8872245-2857960-weekend-club.html\" target=\"_top\">Weekend Club</a>,\n",
       " <a class=\"nowidows\" href=\"/clubs-und-party/clubguide/8872257-2857960-wild-at-heart.html\" target=\"_top\">Wild At Heart</a>,\n",
       " <a class=\"nowidows\" href=\"/clubs-und-party/clubguide/8872275-2857960-yaam.html\" target=\"_top\">Yaam</a>,\n",
       " <a class=\"nowidows\" href=\"/clubs-und-party/clubguide/8872302-2857960-zur-klappe.html\" target=\"_top\">Zur Klappe</a>,\n",
       " <a class=\"nowidows\" href=\"/clubs-und-party/clubguide/8870898-2857960-60hz.html\" target=\"_top\">60HZ</a>,\n",
       " <a class=\"nowidows\" href=\"/clubs-und-party/clubguide/8870916-2857960-808-berlin.html\" target=\"_top\">808 Berlin</a>,\n",
       " <a class=\"\" data-campaign=\"cm.rubric.2857960\" href=\"/clubs-und-party/clubguide/\" target=\"_top\">Clubguide</a>,\n",
       " <a class=\"more\" data-campaign=\"cm.rubric.2857960\" data-mainlink=\"true\" href=\"/clubs-und-party/clubguide/\" target=\"_top\" title=\"Link zu: »Clubguide«\"> mehr</a>,\n",
       " <a class=\"\" data-campaign=\"cm.rubric.5440868\" href=\"/tickets/party/\" target=\"_top\">Partys in Berlin</a>,\n",
       " <a class=\"more\" data-campaign=\"cm.rubric.5440868\" data-mainlink=\"true\" href=\"/tickets/party/\" target=\"_top\" title=\"Link zu: »Partys in Berlin«\"> mehr</a>,\n",
       " <a class=\"\" data-campaign=\"cm.rubric.2339440\" href=\"/tourismus/insidertipps/\" target=\"_top\">Insider-Tipps</a>,\n",
       " <a class=\"more\" data-campaign=\"cm.rubric.2339440\" data-mainlink=\"true\" href=\"/tourismus/insidertipps/\" target=\"_top\" title=\"Link zu: »Insider-Tipps«\"> mehr</a>,\n",
       " <a href=\"/wetter/\" title=\"Link zu: Wetter Startseite\">\n",
       " <i class=\"wi wi-cloud\" title=\"Wetter: Bedeckt\"></i>\n",
       " </a>,\n",
       " <a class=\"more\" href=\"/wetter/\" title=\"Link zu: Wetter Startseite\">Weitere Aussichten</a>,\n",
       " <a class=\"\" data-campaign=\"cm.rubric.2186128\" href=\"/kultur-und-tickets/tipps/kinder/\" target=\"_top\">Berlin für Kinder</a>,\n",
       " <a class=\"more\" data-campaign=\"cm.rubric.2186128\" data-mainlink=\"true\" href=\"/kultur-und-tickets/tipps/kinder/\" target=\"_top\" title=\"Link zu: »Berlin für Kinder«\"> mehr</a>,\n",
       " <a class=\"\" data-campaign=\"cm.rubric.3794240\" href=\"/events/volksfeste/\" target=\"_top\">Volksfeste und Straßenfeste</a>,\n",
       " <a class=\"more\" data-campaign=\"cm.rubric.3794240\" data-mainlink=\"true\" href=\"/events/volksfeste/\" target=\"_top\" title=\"Link zu: »Volksfeste und Straßenfeste«\"> mehr</a>,\n",
       " <a class=\"\" data-campaign=\"cm.rubric.958090\" href=\"/aktuelles/\" target=\"_top\">Aktuelle Meldungen</a>,\n",
       " <a class=\"\" href=\"/aktuelles/9062448-958090-schadstoffvorhersage-fuer-berliner-stras.html\" target=\"_top\">Schadstoffvorhersage für Berliner Straßen gestartet</a>,\n",
       " <a class=\"\" href=\"/aktuelles/9059796-958090-drei-jahre-museumssonntag-ueber-zwei-mil.html\" target=\"_top\">Drei Jahre Museumssonntag: Über zwei Millionen Besuche</a>,\n",
       " <a class=\"\" href=\"/aktuelles/9048537-958090-drk-bittet-menschen-vor-urlaubsantritt-u.html\" target=\"_top\">DRK bittet Menschen vor Urlaubsantritt um Blutspenden</a>,\n",
       " <a class=\"\" href=\"/aktuelles/9047307-958090-verkehrseinschraenkungen-zum-christopher.html\" target=\"_top\">Verkehrseinschränkungen zum Christopher Street Day am Samstag</a>,\n",
       " <a class=\"\" data-campaign=\"cm.rubric.2464577\" href=\"/kino/freiluftkinos/\" target=\"_top\">Freiluftkinos</a>,\n",
       " <a class=\"more\" data-campaign=\"cm.rubric.2464577\" data-mainlink=\"true\" href=\"/kino/freiluftkinos/\" target=\"_top\" title=\"Link zu: »Freiluftkinos in Berlin«\"> mehr</a>,\n",
       " <a class=\"\" data-campaign=\"cm.rubric.7610643\" href=\"/kultur-und-tickets/tipps/lange-nacht-der-museen/\" target=\"_top\">Lange Nacht der Museen</a>,\n",
       " <a class=\"more\" data-campaign=\"cm.rubric.7610643\" data-mainlink=\"true\" href=\"/kultur-und-tickets/tipps/lange-nacht-der-museen/\" target=\"_top\" title=\"Link zu: »Lange Nacht der Museen: Highlights und teilnehmende Museen«\"> mehr</a>,\n",
       " <a class=\"\" data-campaign=\"cm.rubric.5146458\" href=\"/restaurants/food-events/\" target=\"_top\">Food-Events</a>,\n",
       " <a class=\"more\" data-campaign=\"cm.rubric.5146458\" data-mainlink=\"true\" href=\"/restaurants/food-events/\" target=\"_top\" title=\"Link zu: »Food-Events«\"> mehr</a>,\n",
       " <a class=\"\" data-campaign=\"cm.rubric.2739729\" href=\"/wochenend-tipps/\" target=\"_top\">Wochenend-Tipps</a>,\n",
       " <a class=\"more\" data-campaign=\"cm.rubric.2739729\" data-mainlink=\"true\" href=\"/wochenend-tipps/\" target=\"_top\" title=\"Link zu: »Wochenend-Tipps: Endlich Wochenende in Berlin!«\"> mehr</a>,\n",
       " <a class=\"to-top\" href=\"#top\">Zum Seitenanfang</a>,\n",
       " <a href=\"/wochenend-tipps/\">Wochenend–Tipps</a>,\n",
       " <a href=\"/kultur-und-tickets/tipps/\">Feiertage und Specials</a>,\n",
       " <a href=\"/events/jahresuebersicht/\">Jahresübersicht</a>,\n",
       " <a href=\"/kultur-und-tickets/tipps/volksfeste/\">Volksfeste</a>,\n",
       " <a href=\"/events/\">Alle Events</a>,\n",
       " <a href=\"/tickets/musical/\">Musical</a>,\n",
       " <a href=\"/tickets/show/\">Show</a>,\n",
       " <a href=\"/tickets/comedy/\">Comedy</a>,\n",
       " <a href=\"/tickets/theater/\">Theater</a>,\n",
       " <a href=\"/tickets/\">Suche</a>,\n",
       " <a href=\"/ausstellungen/fotoausstellungen/\">Fotoausstellungen</a>,\n",
       " <a href=\"/ausstellungen/erlebnisausstellungen/\">Erlebnisausstellungen</a>,\n",
       " <a href=\"/ausstellungen/vernissage/\">Vernissagen</a>,\n",
       " <a href=\"/ausstellungen/fotoausstellungen/\">Fotoausstellungen</a>,\n",
       " <a href=\"/ausstellungen/\">Alle Ausstellungen</a>,\n",
       " <a href=\"/kino/_bin/index.php\">Aktuelles Programm</a>,\n",
       " <a href=\"/kino/neustarts/\">Neustarts der Woche</a>,\n",
       " <a href=\"/kino/vorschau/\">Vorschau</a>,\n",
       " <a href=\"/kino/freiluftkinos/\">Freiluftkinos</a>,\n",
       " <a href=\"/kino/filmfestivals/\">Filmfestivals</a>,\n",
       " <a href=\"/museum/top-20/\">Highlights</a>,\n",
       " <a href=\"/museum/thema/sonstige/\">Außergewöhnliche Museen</a>,\n",
       " <a href=\"/museum/eintritt-frei/museumssonntag/\">Museumssonntag</a>,\n",
       " <a href=\"/museum/barrierefrei/\">Barrierefrei</a>,\n",
       " <a href=\"/museum/\">Alle Museen</a>,\n",
       " <a href=\"/restaurants/stadtteile/\">Gastro-Kieze</a>,\n",
       " <a href=\"/restaurants/kueche/\">Küchenrichtungen</a>,\n",
       " <a href=\"/cafes/\">Cafés</a>,\n",
       " <a href=\"/restaurants/street-food-markets/\">Street Food Markets</a>,\n",
       " <a href=\"/restaurants/\">Alle Restaurants</a>,\n",
       " <a href=\"/\" title=\"Zur Startseite von Berlin.de\"><img alt=\"Berlin\" src=\"/css/berlin_de/foxtrot/images/logo_berlin_m_negativ.svg\"/></a>,\n",
       " <a href=\"https://www.berlin.de/wir-ueber-uns/impressum/\">Impressum</a>,\n",
       " <a href=\"https://www.berlin.de/wir-ueber-uns/kontakt/\">Kontakt</a>,\n",
       " <a href=\"https://www.berlin.de/rbmskzl/datenschutzerklaerung.703112.php\">Datenschutzerklärung</a>,\n",
       " <a href=\"https://www.berlin.de/wir-ueber-uns/8100503-4219174-erklaerung-zur-barrierefreiheit.html\">Erklärung zur Barrierefreiheit</a>,\n",
       " <a href=\"https://www.berlin.de/wir-ueber-uns/agb/\">AGB</a>,\n",
       " <a href=\"https://service.berlin.de/\">Service-Portal</a>,\n",
       " <a href=\"https://www.berlin.de/moderne-verwaltung/buergerservice/am-telefon/\">Bürgertelefon 115</a>,\n",
       " <a href=\"https://service.berlin.de/terminvereinbarung/\">Terminvereinbarung</a>,\n",
       " <a href=\"https://www.berlin.de/presse/\">Presse</a>,\n",
       " <a href=\"https://www.berlin.de/karriereportal/\">Karriere im Land Berlin</a>,\n",
       " <a href=\"https://service.berlin.de/behoerden/\">Behörden A-Z</a>,\n",
       " <a href=\"https://service.berlin.de/senatsverwaltungen/\">Senatsverwaltungen</a>,\n",
       " <a href=\"https://service.berlin.de/bezirksaemter/\">Bezirksämter</a>,\n",
       " <a href=\"https://service.berlin.de/standorte/buergeraemter/\">Bürgerämter</a>,\n",
       " <a href=\"https://service.berlin.de/jobcenter/\">Jobcenter</a>,\n",
       " <a href=\"https://www.berlin.de/kultur-und-tickets/\">Kultur</a>,\n",
       " <a href=\"https://www.berlin.de/tourismus/\">Tourismus</a>,\n",
       " <a href=\"https://www.berlin.de/special/\">Stadtleben</a>,\n",
       " <a href=\"https://www.berlin.de/wirtschaft/\">Wirtschaft</a>,\n",
       " <a href=\"https://www.berlin.de/adressen/\">BerlinFinder</a>,\n",
       " <a href=\"https://www.berlin.de/kultur-und-tickets/newsletter/\">Newsletter</a>,\n",
       " <a href=\"https://www.berlin.de/wetter/\">Wetter</a>,\n",
       " <a href=\"https://www.berlin.de/tourismus/infos/1748526-1721039-notfall-notapotheken.html\">Notdienste</a>,\n",
       " <a href=\"https://www.berlin.de/mail/\">Berlin.de-Mail buchen</a>,\n",
       " <a href=\"https://webmail.berlin.de/kuendigung/\">Berlin.de-Mail kündigen</a>,\n",
       " <a href=\"https://www.berlin.de/en/\">English</a>,\n",
       " <a href=\"https://www.berlin.de/fr/\">Français</a>,\n",
       " <a href=\"https://www.berlin.de/it/\">Italiano</a>]"
      ]
     },
     "execution_count": 7,
     "metadata": {},
     "output_type": "execute_result"
    }
   ],
   "source": [
    "soup.select(\"a\")"
   ]
  },
  {
   "cell_type": "code",
   "execution_count": 8,
   "metadata": {},
   "outputs": [],
   "source": [
    "clubs = soup.select(\"a.nowidows\")"
   ]
  },
  {
   "cell_type": "code",
   "execution_count": 9,
   "metadata": {},
   "outputs": [],
   "source": [
    "club_name = [club.get_text() for club in clubs]\n"
   ]
  },
  {
   "cell_type": "code",
   "execution_count": 10,
   "metadata": {},
   "outputs": [
    {
     "data": {
      "text/plain": [
       "['://about blank',\n",
       " 'Aeden',\n",
       " 'Æve',\n",
       " 'Alte Kantine',\n",
       " 'Arena Club',\n",
       " 'Astra Kulturhaus',\n",
       " 'Avenue Berlin',\n",
       " 'Badehaus',\n",
       " 'Ballhaus Spandau',\n",
       " 'Beate Uwe',\n",
       " 'Berghain',\n",
       " 'Bi Nuu',\n",
       " 'Birgit und Bier',\n",
       " 'Bohnengold',\n",
       " 'Bricks',\n",
       " 'Bulbul',\n",
       " 'Busche Club',\n",
       " 'Cassiopeia',\n",
       " 'Chesters',\n",
       " 'Clärchens Ballhaus',\n",
       " 'Club der Visionäre',\n",
       " 'Connection Club',\n",
       " 'Dean',\n",
       " 'Der Weiße Hase',\n",
       " 'Duncker',\n",
       " 'Else',\n",
       " 'Farbfernseher',\n",
       " 'frannz',\n",
       " 'Golden Gate',\n",
       " 'Gretchen',\n",
       " 'Hafenbar',\n",
       " 'Harmonie',\n",
       " 'Havanna Berlin',\n",
       " 'Hoppetosse',\n",
       " 'Humboldthain',\n",
       " 'Insomnia',\n",
       " 'Ipse',\n",
       " 'Kaffee Burger',\n",
       " 'Kalkscheune',\n",
       " 'Kantine am Berghain',\n",
       " 'Kater Blau',\n",
       " 'Kesselhaus',\n",
       " 'KitKatClub',\n",
       " 'Lido',\n",
       " 'Loci Loft',\n",
       " 'L.U.X.',\n",
       " 'Matrix Club Berlin',\n",
       " 'Maxxim Club',\n",
       " 'Maze',\n",
       " 'M-bia',\n",
       " 'Mensch Meier',\n",
       " 'Musik und Frieden',\n",
       " 'Ohm',\n",
       " 'Ost',\n",
       " 'Phono Club',\n",
       " 'Polygon',\n",
       " 'Postbahnhof Club',\n",
       " 'Prince Charles',\n",
       " 'PrivatClub',\n",
       " 'Quasimodo',\n",
       " 'Revier Südost',\n",
       " 'Ritter Butzke',\n",
       " \"Roadrunner's Paradise Club\",\n",
       " 'Rummelsburg',\n",
       " 'Sage Club',\n",
       " 'Salon zur wilden Renate',\n",
       " 'SchwuZ',\n",
       " 'Silverwings Club',\n",
       " 'Sisyphos',\n",
       " 'SO36',\n",
       " 'Soda Club',\n",
       " 'Soulcat',\n",
       " 'St. Georg',\n",
       " 'Suicide Club',\n",
       " 'Surprise Club',\n",
       " 'The Pearl',\n",
       " 'Traffic Club',\n",
       " 'Tresor',\n",
       " 'Untertage',\n",
       " 'Void Club',\n",
       " 'Watergate',\n",
       " 'Weekend Club',\n",
       " 'Wild At Heart',\n",
       " 'Yaam',\n",
       " 'Zur Klappe',\n",
       " '60HZ',\n",
       " '808 Berlin']"
      ]
     },
     "execution_count": 10,
     "metadata": {},
     "output_type": "execute_result"
    }
   ],
   "source": [
    "club_name"
   ]
  },
  {
   "cell_type": "code",
   "execution_count": 11,
   "metadata": {},
   "outputs": [],
   "source": [
    "club_links = [f'https://www.berlin.de{link[\"href\"]}' for link in clubs]"
   ]
  },
  {
   "cell_type": "code",
   "execution_count": 12,
   "metadata": {},
   "outputs": [
    {
     "data": {
      "text/plain": [
       "['https://www.berlin.de/clubs-und-party/clubguide/8870883-2857960-about-blank.html',\n",
       " 'https://www.berlin.de/clubs-und-party/clubguide/8870937-2857960-aeden.html',\n",
       " 'https://www.berlin.de/clubs-und-party/clubguide/8870949-2857960-aeve.html',\n",
       " 'https://www.berlin.de/clubs-und-party/clubguide/8870964-2857960-alte-kantine.html',\n",
       " 'https://www.berlin.de/clubs-und-party/clubguide/8870988-2857960-arena-club.html',\n",
       " 'https://www.berlin.de/clubs-und-party/clubguide/8871015-2857960-astra-kulturhaus.html',\n",
       " 'https://www.berlin.de/clubs-und-party/clubguide/8871027-2857960-avenue-berlin.html',\n",
       " 'https://www.berlin.de/clubs-und-party/clubguide/8871066-2857960-badehaus.html',\n",
       " 'https://www.berlin.de/clubs-und-party/clubguide/8871084-2857960-ballhaus-spandau.html',\n",
       " 'https://www.berlin.de/clubs-und-party/clubguide/8871099-2857960-beate-uwe.html',\n",
       " 'https://www.berlin.de/clubs-und-party/clubguide/8871117-2857960-berghain.html',\n",
       " 'https://www.berlin.de/clubs-und-party/clubguide/8871129-2857960-bi-nuu.html',\n",
       " 'https://www.berlin.de/clubs-und-party/clubguide/8871141-2857960-birgit-und-bier.html',\n",
       " 'https://www.berlin.de/clubs-und-party/clubguide/8871156-2857960-bohnengold.html',\n",
       " 'https://www.berlin.de/clubs-und-party/clubguide/8871171-2857960-bricks.html',\n",
       " 'https://www.berlin.de/clubs-und-party/clubguide/8871183-2857960-bulbul.html',\n",
       " 'https://www.berlin.de/clubs-und-party/clubguide/8871192-2857960-busche-club.html',\n",
       " 'https://www.berlin.de/clubs-und-party/clubguide/8871201-2857960-cassiopeia.html',\n",
       " 'https://www.berlin.de/clubs-und-party/clubguide/8871213-2857960-chesters.html',\n",
       " 'https://www.berlin.de/clubs-und-party/clubguide/8871261-2857960-claerchens-ballhaus.html',\n",
       " 'https://www.berlin.de/clubs-und-party/clubguide/8871273-2857960-club-der-visionaere.html',\n",
       " 'https://www.berlin.de/clubs-und-party/clubguide/8871291-2857960-connection-club.html',\n",
       " 'https://www.berlin.de/clubs-und-party/clubguide/8871306-2857960-dean.html',\n",
       " 'https://www.berlin.de/clubs-und-party/clubguide/8871318-2857960-der-weisse-hase.html',\n",
       " 'https://www.berlin.de/clubs-und-party/clubguide/8871327-2857960-duncker.html',\n",
       " 'https://www.berlin.de/clubs-und-party/clubguide/8871339-2857960-else.html',\n",
       " 'https://www.berlin.de/clubs-und-party/clubguide/8871351-2857960-farbfernseher.html',\n",
       " 'https://www.berlin.de/clubs-und-party/clubguide/8871399-2857960-frannz.html',\n",
       " 'https://www.berlin.de/clubs-und-party/clubguide/8871423-2857960-golden-gate.html',\n",
       " 'https://www.berlin.de/clubs-und-party/clubguide/8871447-2857960-gretchen.html',\n",
       " 'https://www.berlin.de/clubs-und-party/clubguide/8871459-2857960-hafenbar.html',\n",
       " 'https://www.berlin.de/clubs-und-party/clubguide/8871474-2857960-harmonie.html',\n",
       " 'https://www.berlin.de/clubs-und-party/clubguide/8871486-2857960-havanna-berlin.html',\n",
       " 'https://www.berlin.de/clubs-und-party/clubguide/8871498-2857960-hoppetosse.html',\n",
       " 'https://www.berlin.de/clubs-und-party/clubguide/8871513-2857960-humboldthain.html',\n",
       " 'https://www.berlin.de/clubs-und-party/clubguide/8871528-2857960-insomnia.html',\n",
       " 'https://www.berlin.de/clubs-und-party/clubguide/8871540-2857960-ipse.html',\n",
       " 'https://www.berlin.de/clubs-und-party/clubguide/8871588-2857960-kaffee-burger.html',\n",
       " 'https://www.berlin.de/clubs-und-party/clubguide/8871600-2857960-kalkscheune.html',\n",
       " 'https://www.berlin.de/clubs-und-party/clubguide/8871612-2857960-kantine-am-berghain.html',\n",
       " 'https://www.berlin.de/clubs-und-party/clubguide/8871624-2857960-kater-blau.html',\n",
       " 'https://www.berlin.de/clubs-und-party/clubguide/8871636-2857960-kesselhaus.html',\n",
       " 'https://www.berlin.de/clubs-und-party/clubguide/8871648-2857960-kitkatclub.html',\n",
       " 'https://www.berlin.de/clubs-und-party/clubguide/8871690-2857960-lido.html',\n",
       " 'https://www.berlin.de/clubs-und-party/clubguide/8871708-2857960-loci-loft.html',\n",
       " 'https://www.berlin.de/clubs-und-party/clubguide/8871660-2857960-lux.html',\n",
       " 'https://www.berlin.de/clubs-und-party/clubguide/8871732-2857960-matrix-club-berlin.html',\n",
       " 'https://www.berlin.de/clubs-und-party/clubguide/8871747-2857960-maxxim-club.html',\n",
       " 'https://www.berlin.de/clubs-und-party/clubguide/8871756-2857960-maze.html',\n",
       " 'https://www.berlin.de/clubs-und-party/clubguide/8871720-2857960-mbia.html',\n",
       " 'https://www.berlin.de/clubs-und-party/clubguide/8871768-2857960-mensch-meier.html',\n",
       " 'https://www.berlin.de/clubs-und-party/clubguide/8871780-2857960-musik-und-frieden.html',\n",
       " 'https://www.berlin.de/clubs-und-party/clubguide/8871792-2857960-ohm.html',\n",
       " 'https://www.berlin.de/clubs-und-party/clubguide/8871804-2857960-ost.html',\n",
       " 'https://www.berlin.de/clubs-und-party/clubguide/8871816-2857960-phono-club.html',\n",
       " 'https://www.berlin.de/clubs-und-party/clubguide/8871834-2857960-polygon.html',\n",
       " 'https://www.berlin.de/clubs-und-party/clubguide/8871846-2857960-postbahnhof-club.html',\n",
       " 'https://www.berlin.de/clubs-und-party/clubguide/8871858-2857960-prince-charles.html',\n",
       " 'https://www.berlin.de/clubs-und-party/clubguide/8871888-2857960-privatclub.html',\n",
       " 'https://www.berlin.de/clubs-und-party/clubguide/8871900-2857960-quasimodo.html',\n",
       " 'https://www.berlin.de/clubs-und-party/clubguide/8871915-2857960-revier-suedost.html',\n",
       " 'https://www.berlin.de/clubs-und-party/clubguide/8871927-2857960-ritter-butzke.html',\n",
       " 'https://www.berlin.de/clubs-und-party/clubguide/8871939-2857960-roadrunners-paradise-club.html',\n",
       " 'https://www.berlin.de/clubs-und-party/clubguide/8871951-2857960-rummelsburg.html',\n",
       " 'https://www.berlin.de/clubs-und-party/clubguide/8871969-2857960-sage-club.html',\n",
       " 'https://www.berlin.de/clubs-und-party/clubguide/8871981-2857960-salon-zur-wilden-renate.html',\n",
       " 'https://www.berlin.de/clubs-und-party/clubguide/8871999-2857960-schwuz.html',\n",
       " 'https://www.berlin.de/clubs-und-party/clubguide/8872011-2857960-silverwings-club.html',\n",
       " 'https://www.berlin.de/clubs-und-party/clubguide/8872029-2857960-sisyphos.html',\n",
       " 'https://www.berlin.de/clubs-und-party/clubguide/8872059-2857960-so36.html',\n",
       " 'https://www.berlin.de/clubs-und-party/clubguide/8872071-2857960-soda-club.html',\n",
       " 'https://www.berlin.de/clubs-und-party/clubguide/8872080-2857960-soulcat.html',\n",
       " 'https://www.berlin.de/clubs-und-party/clubguide/8872092-2857960-st-georg.html',\n",
       " 'https://www.berlin.de/clubs-und-party/clubguide/8872104-2857960-suicide-club.html',\n",
       " 'https://www.berlin.de/clubs-und-party/clubguide/8872119-2857960-surprise-club.html',\n",
       " 'https://www.berlin.de/clubs-und-party/clubguide/8872137-2857960-the-pearl.html',\n",
       " 'https://www.berlin.de/clubs-und-party/clubguide/8872149-2857960-traffic-club.html',\n",
       " 'https://www.berlin.de/clubs-und-party/clubguide/8872188-2857960-tresor.html',\n",
       " 'https://www.berlin.de/clubs-und-party/clubguide/8872200-2857960-untertage.html',\n",
       " 'https://www.berlin.de/clubs-und-party/clubguide/8872209-2857960-void-club.html',\n",
       " 'https://www.berlin.de/clubs-und-party/clubguide/8872224-2857960-watergate.html',\n",
       " 'https://www.berlin.de/clubs-und-party/clubguide/8872245-2857960-weekend-club.html',\n",
       " 'https://www.berlin.de/clubs-und-party/clubguide/8872257-2857960-wild-at-heart.html',\n",
       " 'https://www.berlin.de/clubs-und-party/clubguide/8872275-2857960-yaam.html',\n",
       " 'https://www.berlin.de/clubs-und-party/clubguide/8872302-2857960-zur-klappe.html',\n",
       " 'https://www.berlin.de/clubs-und-party/clubguide/8870898-2857960-60hz.html',\n",
       " 'https://www.berlin.de/clubs-und-party/clubguide/8870916-2857960-808-berlin.html']"
      ]
     },
     "execution_count": 12,
     "metadata": {},
     "output_type": "execute_result"
    }
   ],
   "source": [
    "club_links"
   ]
  },
  {
   "cell_type": "code",
   "execution_count": 51,
   "metadata": {},
   "outputs": [],
   "source": [
    "club_html = requests.get(club_links[0]).text\n",
    "soup = BeautifulSoup(html)"
   ]
  },
  {
   "cell_type": "code",
   "execution_count": 58,
   "metadata": {},
   "outputs": [
    {
     "data": {
      "text/plain": [
       "[<script type=\"application/ld+json\">{\"@context\":\"http:\\/\\/schema.org\",\"@type\":\"NightClub\",\"address\":{\"@type\":\"PostalAddress\",\"addressLocality\":\"Berlin\",\"addressRegion\":\"Berlin\",\"postalCode\":10787,\"streetAddress\":\"Budapester Stra\\u00dfe 38-40\",\"houseNumber\":\"38-40\"},\"sameAs\":null,\"telephone\":\"(030) 983 208 420\"}</script>]"
      ]
     },
     "execution_count": 58,
     "metadata": {},
     "output_type": "execute_result"
    }
   ],
   "source": [
    "soup.select('script[type=\"application/ld+json\"]')"
   ]
  },
  {
   "cell_type": "code",
   "execution_count": 23,
   "metadata": {},
   "outputs": [],
   "source": [
    "def get_address(url):\n",
    "    html = requests.get(url).text\n",
    "    soup = BeautifulSoup(html)\n",
    "    address_elements = soup.select(\"dd\")\n",
    "    address = \" \".join(element.get_text() for element in address_elements)\n",
    "    return address  "
   ]
  },
  {
   "cell_type": "code",
   "execution_count": 30,
   "metadata": {},
   "outputs": [],
   "source": [
    "\n",
    "def get_address(url):\n",
    "    html = requests.get(url).text\n",
    "    soup = BeautifulSoup(html, 'html.parser')\n",
    "    address = \"\"\n",
    "    \n",
    "    # Use CSS selector to find all <dd> elements\n",
    "    dd_elements = soup.select('dd')\n",
    "    \n",
    "    for dd in dd_elements:\n",
    "        # Check if <dd> contains <div> elements and does not contain <a> with 'tel:' in href\n",
    "        if dd.select('div') and not dd.select('a[href^=\"tel:\"]'):\n",
    "            # Extract the text content of the <div> elements\n",
    "            address = \" \".join(div.get_text(strip=True) for div in dd.select('div'))\n",
    "            break  # Assuming the address is found in the first matching <dd>\n",
    "    \n",
    "    return address\n"
   ]
  },
  {
   "cell_type": "code",
   "execution_count": 31,
   "metadata": {},
   "outputs": [],
   "source": [
    "club_address = [get_address(club) for club in club_links]"
   ]
  },
  {
   "cell_type": "code",
   "execution_count": 32,
   "metadata": {},
   "outputs": [
    {
     "data": {
      "text/plain": [
       "['Markgrafendamm 24c 10245 Berlin Zum Stadtplan',\n",
       " 'Schleusenufer 3 10997 Berlin Zum Stadtplan',\n",
       " 'Vor dem Schlesischen Tor 3 10997 Berlin Zum Stadtplan',\n",
       " 'Knaackstr. 97 10435 Berlin Zum Stadtplan',\n",
       " 'Eichenstr. 4 12435 Berlin Zum Stadtplan',\n",
       " 'Revaler Str. 99 10245 Berlin Zum Stadtplan',\n",
       " 'Karl-Marx-Allee 34 10178 Berlin Zum Stadtplan',\n",
       " 'Revaler Str. 99 10245 Berlin Zum Stadtplan',\n",
       " 'Dorfstr. 5 13597 Berlin Zum Stadtplan',\n",
       " 'Schillingstr. 31 10179 Berlin Zum Stadtplan',\n",
       " 'Am Wriezener Bahnhof 10243 Berlin Zum Stadtplan',\n",
       " 'U-Bahnhof Schlesisches Tor 10997 Berlin Zum Stadtplan',\n",
       " 'Schleusenufer 3 10997 Berlin Zum Stadtplan',\n",
       " 'Reichenberger Str. 153 10999 Berlin Zum Stadtplan',\n",
       " 'Mohrenstr. 30 10117 Berlin Zum Stadtplan',\n",
       " 'Skalitzer Str. 114 10999 Berlin Zum Stadtplan',\n",
       " 'Warschauer Platz 18 10245 Berlin Zum Stadtplan',\n",
       " 'Revaler Str. 99 10245 Berlin Zum Stadtplan',\n",
       " 'Glogauerstr. 2 10999 Berlin Zum Stadtplan',\n",
       " 'Auguststr. 24 10117 Berlin Zum Stadtplan',\n",
       " 'Am Flutgraben 1 12435 Berlin Zum Stadtplan',\n",
       " 'Fuggerstr. 33 10777 Berlin Zum Stadtplan',\n",
       " 'Rosenthaler Str. 9 10119 Berlin Zum Stadtplan',\n",
       " 'Revaler Str. 99 10245 Berlin Zum Stadtplan',\n",
       " 'Dunckerstr. 64 10439 Berlin Zum Stadtplan',\n",
       " 'An den Treptowers 10 12435 Berlin Zum Stadtplan',\n",
       " 'Skalitzer Str. 114 10999 Berlin Zum Stadtplan',\n",
       " 'Schönhauser Allee 36 10435 Berlin Zum Stadtplan',\n",
       " 'Schicklerstr. 4 10179 Berlin Zum Stadtplan',\n",
       " 'Obentrautstr. 19-21 10963 Berlin Zum Stadtplan',\n",
       " 'Karl-Liebknecht-Str. 11 10178 Berlin Zum Stadtplan',\n",
       " 'Streustr. 31 13086 Berlin Zum Stadtplan',\n",
       " 'Hauptstr. 30 10827 Berlin Zum Stadtplan',\n",
       " 'Eichenstr. 4 12435 Berlin Zum Stadtplan',\n",
       " 'Hochstr. 46 13357 Berlin Zum Stadtplan',\n",
       " 'Alt Tempelhof 17-19 12099 Berlin Zum Stadtplan',\n",
       " 'Vor dem Schlesischen Tor 2b 10997 Berlin Zum Stadtplan',\n",
       " 'Torstr. 60 10119 Berlin Zum Stadtplan',\n",
       " 'Johannisstr. 2 10117 Berlin Zum Stadtplan',\n",
       " 'Rüdersdorfer Str. 70 10243 Berlin Zum Stadtplan',\n",
       " 'Holzmarktstr. 25 10243 Berlin Zum Stadtplan',\n",
       " 'Schönhauser Allee 36 10435 Berlin Zum Stadtplan',\n",
       " 'Köpenicker Str. 76 10179 Berlin Zum Stadtplan',\n",
       " 'Cuvrystr. 7 10997 Berlin Zum Stadtplan',\n",
       " 'Oraniendamm 72 13469 Berlin Zum Stadtplan',\n",
       " 'Schlesische Str. 41 10997 Berlin Zum Stadtplan',\n",
       " 'Warschauer Platz 18 10245 Berlin Zum Stadtplan',\n",
       " 'Joachimstaler Str. 15 10719 Berlin Zum Stadtplan',\n",
       " 'Mehringdamm 61 10961 Berlin Zum Stadtplan',\n",
       " 'Dircksenstr. 123 10178 Berlin Zum Stadtplan',\n",
       " 'Storkowerstr. 121 10407 Berlin Zum Stadtplan',\n",
       " 'Falckensteinstr. 48 10997 Berlin Zum Stadtplan',\n",
       " 'Köpenicker Str. 70 10179 Berlin Zum Stadtplan',\n",
       " 'Alt-Stralau 1 10245 Berlin Zum Stadtplan',\n",
       " 'Pappelallee 65 10437 Berlin Zum Stadtplan',\n",
       " 'Wiesenweg 1-4 10365 Berlin Zum Stadtplan',\n",
       " 'Straße der Pariser Kommune 8 10243 Berlin Zum Stadtplan',\n",
       " 'Prinzenstr. 85f 10969 Berlin Zum Stadtplan',\n",
       " 'Skalitzer Str. 85-86 10997 Berlin Zum Stadtplan',\n",
       " 'Kantstr. 12a 10623 Berlin Zum Stadtplan',\n",
       " 'Schnellerstr. 137 12439 Berlin Zum Stadtplan',\n",
       " 'Ritterstr. 24-26 10969 Berlin Zum Stadtplan',\n",
       " 'Saarbrücker Str. 24 10405 Berlin Zum Stadtplan',\n",
       " 'Rummelsburger Landstr. 2-12 12459 Berlin Zum Stadtplan',\n",
       " 'Köpenicker Str. 76 10179 Berlin Zum Stadtplan',\n",
       " 'Alt-Stralau 70 10245 Berlin Zum Stadtplan',\n",
       " 'Rollbergstr. 26 12053 Berlin Zum Stadtplan',\n",
       " 'Columbiadamm 10f 10965 Berlin Zum Stadtplan',\n",
       " 'Hauptstr. 15 10317 Berlin Zum Stadtplan',\n",
       " 'Oranienstr. 190 10999 Berlin Zum Stadtplan',\n",
       " 'Schönhauser Allee 36 10435 Berlin Zum Stadtplan',\n",
       " 'Pannierstr. 53 12047 Berlin Zum Stadtplan',\n",
       " 'Ritterstr. 26 10969 Berlin Zum Stadtplan',\n",
       " 'Revaler Str. 99 10245 Berlin Zum Stadtplan',\n",
       " 'Potsdamer Str. 84 10785 Berlin Zum Stadtplan',\n",
       " 'Fasanenstr. 81 10623 Berlin Zum Stadtplan',\n",
       " 'Alexanderstr. 7 10178 Berlin Zum Stadtplan',\n",
       " 'Köpenicker Str. 70 10179 Berlin Zum Stadtplan',\n",
       " 'Mehringdamm 32 10961 Berlin Zum Stadtplan',\n",
       " 'Wiesenweg 5-9 10365 Berlin Zum Stadtplan',\n",
       " 'Falckensteinstr. 49 10997 Berlin Zum Stadtplan',\n",
       " 'Alexanderstr. 7 10178 Berlin Zum Stadtplan',\n",
       " 'Wiener Str. 20 10999 Berlin Zum Stadtplan',\n",
       " 'An der Schillingbrücke 10243 Berlin Zum Stadtplan',\n",
       " 'Yorckstr. 2 10965 Berlin Zum Stadtplan',\n",
       " 'Waldemarstr. 108 10997 Berlin Zum Stadtplan',\n",
       " 'Budapester Straße 38-40 10787 Berlin Zum Stadtplan']"
      ]
     },
     "execution_count": 32,
     "metadata": {},
     "output_type": "execute_result"
    }
   ],
   "source": [
    "club_address"
   ]
  },
  {
   "cell_type": "code",
   "execution_count": 28,
   "metadata": {},
   "outputs": [],
   "source": [
    "import re"
   ]
  },
  {
   "cell_type": "code",
   "execution_count": 40,
   "metadata": {},
   "outputs": [
    {
     "data": {
      "text/plain": [
       "['Markgrafendamm 24c 10245 Berlin',\n",
       " 'Schleusenufer 3 10997 Berlin',\n",
       " 'Vor dem Schlesischen Tor 3 10997 Berlin',\n",
       " 'Knaackstr. 97 10435 Berlin',\n",
       " 'Eichenstr. 4 12435 Berlin',\n",
       " 'Revaler Str. 99 10245 Berlin',\n",
       " 'Karl-Marx-Allee 34 10178 Berlin',\n",
       " 'Revaler Str. 99 10245 Berlin',\n",
       " 'Dorfstr. 5 13597 Berlin',\n",
       " 'Schillingstr. 31 10179 Berlin',\n",
       " 'Am Wriezener Bahnhof 10243 Berlin',\n",
       " 'U-Bahnhof Schlesisches Tor 10997 Berlin',\n",
       " 'Schleusenufer 3 10997 Berlin',\n",
       " 'Reichenberger Str. 153 10999 Berlin',\n",
       " 'Mohrenstr. 30 10117 Berlin',\n",
       " 'Skalitzer Str. 114 10999 Berlin',\n",
       " 'Warschauer Platz 18 10245 Berlin',\n",
       " 'Revaler Str. 99 10245 Berlin',\n",
       " 'Glogauerstr. 2 10999 Berlin',\n",
       " 'Auguststr. 24 10117 Berlin',\n",
       " 'Am Flutgraben 1 12435 Berlin',\n",
       " 'Fuggerstr. 33 10777 Berlin',\n",
       " 'Rosenthaler Str. 9 10119 Berlin',\n",
       " 'Revaler Str. 99 10245 Berlin',\n",
       " 'Dunckerstr. 64 10439 Berlin',\n",
       " 'An den Treptowers 10 12435 Berlin',\n",
       " 'Skalitzer Str. 114 10999 Berlin',\n",
       " 'Schönhauser Allee 36 10435 Berlin',\n",
       " 'Schicklerstr. 4 10179 Berlin',\n",
       " 'Obentrautstr. 19-21 10963 Berlin',\n",
       " 'Karl-Liebknecht-Str. 11 10178 Berlin',\n",
       " 'Streustr. 31 13086 Berlin',\n",
       " 'Hauptstr. 30 10827 Berlin',\n",
       " 'Eichenstr. 4 12435 Berlin',\n",
       " 'Hochstr. 46 13357 Berlin',\n",
       " 'Alt Tempelhof 17-19 12099 Berlin',\n",
       " 'Vor dem Schlesischen Tor 2b 10997 Berlin',\n",
       " 'Torstr. 60 10119 Berlin',\n",
       " 'Johannisstr. 2 10117 Berlin',\n",
       " 'Rüdersdorfer Str. 70 10243 Berlin',\n",
       " 'Holzmarktstr. 25 10243 Berlin',\n",
       " 'Schönhauser Allee 36 10435 Berlin',\n",
       " 'Köpenicker Str. 76 10179 Berlin',\n",
       " 'Cuvrystr. 7 10997 Berlin',\n",
       " 'Oraniendamm 72 13469 Berlin',\n",
       " 'Schlesische Str. 41 10997 Berlin',\n",
       " 'Warschauer Platz 18 10245 Berlin',\n",
       " 'Joachimstaler Str. 15 10719 Berlin',\n",
       " 'Mehringdamm 61 10961 Berlin',\n",
       " 'Dircksenstr. 123 10178 Berlin',\n",
       " 'Storkowerstr. 121 10407 Berlin',\n",
       " 'Falckensteinstr. 48 10997 Berlin',\n",
       " 'Köpenicker Str. 70 10179 Berlin',\n",
       " 'Alt-Stralau 1 10245 Berlin',\n",
       " 'Pappelallee 65 10437 Berlin',\n",
       " 'Wiesenweg 1-4 10365 Berlin',\n",
       " 'Straße der Pariser Kommune 8 10243 Berlin',\n",
       " 'Prinzenstr. 85f 10969 Berlin',\n",
       " 'Skalitzer Str. 85-86 10997 Berlin',\n",
       " 'Kantstr. 12a 10623 Berlin',\n",
       " 'Schnellerstr. 137 12439 Berlin',\n",
       " 'Ritterstr. 24-26 10969 Berlin',\n",
       " 'Saarbrücker Str. 24 10405 Berlin',\n",
       " 'Rummelsburger Landstr. 2-12 12459 Berlin',\n",
       " 'Köpenicker Str. 76 10179 Berlin',\n",
       " 'Alt-Stralau 70 10245 Berlin',\n",
       " 'Rollbergstr. 26 12053 Berlin',\n",
       " 'Columbiadamm 10f 10965 Berlin',\n",
       " 'Hauptstr. 15 10317 Berlin',\n",
       " 'Oranienstr. 190 10999 Berlin',\n",
       " 'Schönhauser Allee 36 10435 Berlin',\n",
       " 'Pannierstr. 53 12047 Berlin',\n",
       " 'Ritterstr. 26 10969 Berlin',\n",
       " 'Revaler Str. 99 10245 Berlin',\n",
       " 'Potsdamer Str. 84 10785 Berlin',\n",
       " 'Fasanenstr. 81 10623 Berlin',\n",
       " 'Alexanderstr. 7 10178 Berlin',\n",
       " 'Köpenicker Str. 70 10179 Berlin',\n",
       " 'Mehringdamm 32 10961 Berlin',\n",
       " 'Wiesenweg 5-9 10365 Berlin',\n",
       " 'Falckensteinstr. 49 10997 Berlin',\n",
       " 'Alexanderstr. 7 10178 Berlin',\n",
       " 'Wiener Str. 20 10999 Berlin',\n",
       " 'An der Schillingbrücke 10243 Berlin',\n",
       " 'Yorckstr. 2 10965 Berlin',\n",
       " 'Waldemarstr. 108 10997 Berlin',\n",
       " 'Budapester Straße 38-40 10787 Berlin']"
      ]
     },
     "execution_count": 40,
     "metadata": {},
     "output_type": "execute_result"
    }
   ],
   "source": [
    "clean_address = [re.sub(r' Zum Stadtplan','', address) for address in club_address]\n",
    "clean_address"
   ]
  },
  {
   "cell_type": "code",
   "execution_count": 47,
   "metadata": {},
   "outputs": [],
   "source": [
    "import pandas as pd"
   ]
  },
  {
   "cell_type": "code",
   "execution_count": 48,
   "metadata": {},
   "outputs": [],
   "source": [
    "df = pd.DataFrame() \n",
    "df[\"name\"] = club_name\n",
    "df[\"link\"] = club_links  \n",
    "df[\"address\"] = clean_address  "
   ]
  },
  {
   "cell_type": "code",
   "execution_count": 50,
   "metadata": {},
   "outputs": [],
   "source": [
    "df.to_csv(\"clubs.csv\", index=False)"
   ]
  },
  {
   "cell_type": "code",
   "execution_count": 44,
   "metadata": {},
   "outputs": [],
   "source": [
    "address = clean_address[0]\n",
    "access_token = \"pk.eyJ1Ijoiai1taXJhbmkiLCJhIjoiY2x4amk0cmRsMXR4NjJ2czNocjB2N25ocSJ9.EyxGE0l9l2CysQc2kBSdcQ\"\n",
    "url = f\"https://api.mapbox.com/geocoding/v5/mapbox.places/{address}.json?types=address&access_token={access_token}\"\n"
   ]
  },
  {
   "cell_type": "code",
   "execution_count": 45,
   "metadata": {},
   "outputs": [
    {
     "data": {
      "text/plain": [
       "'Markgrafendamm 24c 10245 Berlin'"
      ]
     },
     "execution_count": 45,
     "metadata": {},
     "output_type": "execute_result"
    }
   ],
   "source": [
    "address"
   ]
  },
  {
   "cell_type": "code",
   "execution_count": 42,
   "metadata": {},
   "outputs": [
    {
     "data": {
      "text/plain": [
       "['Markgrafendamm 24c 10245 Berlin']"
      ]
     },
     "execution_count": 42,
     "metadata": {},
     "output_type": "execute_result"
    }
   ],
   "source": [
    "clean_address[0].split(\",\")"
   ]
  }
 ],
 "metadata": {
  "kernelspec": {
   "display_name": "Python 3",
   "language": "python",
   "name": "python3"
  },
  "language_info": {
   "codemirror_mode": {
    "name": "ipython",
    "version": 3
   },
   "file_extension": ".py",
   "mimetype": "text/x-python",
   "name": "python",
   "nbconvert_exporter": "python",
   "pygments_lexer": "ipython3",
   "version": "3.11.8"
  }
 },
 "nbformat": 4,
 "nbformat_minor": 2
}
